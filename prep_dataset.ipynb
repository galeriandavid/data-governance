{
 "cells": [
  {
   "cell_type": "code",
   "execution_count": 1,
   "id": "ae84cdf1-03f8-4358-ab55-c0d12526e748",
   "metadata": {},
   "outputs": [
    {
     "name": "stderr",
     "output_type": "stream",
     "text": [
      "c:\\Users\\KK\\miniconda3\\envs\\segmentation\\lib\\site-packages\\tqdm\\auto.py:22: TqdmWarning: IProgress not found. Please update jupyter and ipywidgets. See https://ipywidgets.readthedocs.io/en/stable/user_install.html\n",
      "  from .autonotebook import tqdm as notebook_tqdm\n"
     ]
    }
   ],
   "source": [
    "import torch\n",
    "from model import UNet\n",
    "from loss import DiceLoss\n",
    "from dataset import SegmentationDataset\n",
    "import matplotlib.pyplot as plt\n",
    "import gc\n",
    "import numpy as np\n",
    "import pandas as pd\n",
    "import torchvision\n",
    "from utils import *\n",
    "import json\n",
    "from PIL import Image"
   ]
  },
  {
   "cell_type": "code",
   "execution_count": 3,
   "id": "9ab2035f",
   "metadata": {},
   "outputs": [],
   "source": [
    "df_path = 'train_data/raw_data/train.csv'\n",
    "df = pd.read_csv(df_path)"
   ]
  },
  {
   "cell_type": "code",
   "execution_count": 4,
   "id": "a4efe220",
   "metadata": {},
   "outputs": [
    {
     "data": {
      "text/html": [
       "<div>\n",
       "<style scoped>\n",
       "    .dataframe tbody tr th:only-of-type {\n",
       "        vertical-align: middle;\n",
       "    }\n",
       "\n",
       "    .dataframe tbody tr th {\n",
       "        vertical-align: top;\n",
       "    }\n",
       "\n",
       "    .dataframe thead th {\n",
       "        text-align: right;\n",
       "    }\n",
       "</style>\n",
       "<table border=\"1\" class=\"dataframe\">\n",
       "  <thead>\n",
       "    <tr style=\"text-align: right;\">\n",
       "      <th></th>\n",
       "      <th>id</th>\n",
       "      <th>organ</th>\n",
       "      <th>data_source</th>\n",
       "      <th>img_height</th>\n",
       "      <th>img_width</th>\n",
       "      <th>pixel_size</th>\n",
       "      <th>tissue_thickness</th>\n",
       "      <th>rle</th>\n",
       "      <th>age</th>\n",
       "      <th>sex</th>\n",
       "      <th>train</th>\n",
       "    </tr>\n",
       "  </thead>\n",
       "  <tbody>\n",
       "    <tr>\n",
       "      <th>16</th>\n",
       "      <td>11497</td>\n",
       "      <td>kidney</td>\n",
       "      <td>HPA</td>\n",
       "      <td>3000</td>\n",
       "      <td>3000</td>\n",
       "      <td>0.4</td>\n",
       "      <td>4</td>\n",
       "      <td>940436 51 943430 65 946427 76 949423 89 952417...</td>\n",
       "      <td>41.0</td>\n",
       "      <td>Female</td>\n",
       "      <td>train</td>\n",
       "    </tr>\n",
       "    <tr>\n",
       "      <th>38</th>\n",
       "      <td>13034</td>\n",
       "      <td>kidney</td>\n",
       "      <td>HPA</td>\n",
       "      <td>3000</td>\n",
       "      <td>3000</td>\n",
       "      <td>0.4</td>\n",
       "      <td>4</td>\n",
       "      <td>850253 18 853250 24 856245 32 859237 46 862233...</td>\n",
       "      <td>73.0</td>\n",
       "      <td>Male</td>\n",
       "      <td>val</td>\n",
       "    </tr>\n",
       "  </tbody>\n",
       "</table>\n",
       "</div>"
      ],
      "text/plain": [
       "       id   organ data_source  img_height  img_width  pixel_size  \\\n",
       "16  11497  kidney         HPA        3000       3000         0.4   \n",
       "38  13034  kidney         HPA        3000       3000         0.4   \n",
       "\n",
       "    tissue_thickness                                                rle   age  \\\n",
       "16                 4  940436 51 943430 65 946427 76 949423 89 952417...  41.0   \n",
       "38                 4  850253 18 853250 24 856245 32 859237 46 862233...  73.0   \n",
       "\n",
       "       sex  train  \n",
       "16  Female  train  \n",
       "38    Male    val  "
      ]
     },
     "execution_count": 4,
     "metadata": {},
     "output_type": "execute_result"
    }
   ],
   "source": [
    "df = df.query('id in [11497, 13034]')\n",
    "df['train'] = ['train', 'val']\n",
    "df"
   ]
  },
  {
   "cell_type": "code",
   "execution_count": 17,
   "id": "15ca1eba",
   "metadata": {},
   "outputs": [],
   "source": [
    "transforms = torchvision.transforms.Compose([\n",
    "    torchvision.transforms.Resize(size=(1536, 1536)),\n",
    "    torchvision.transforms.ToTensor(),\n",
    "])\n",
    "transforms_mask = torchvision.transforms.Compose([\n",
    "    torchvision.transforms.Resize(size=(1536, 1536)),\n",
    "])"
   ]
  },
  {
   "cell_type": "code",
   "execution_count": 7,
   "id": "5488376f",
   "metadata": {},
   "outputs": [
    {
     "data": {
      "text/plain": [
       "(1, ['kidney'])"
      ]
     },
     "execution_count": 7,
     "metadata": {},
     "output_type": "execute_result"
    }
   ],
   "source": [
    "num_classes = df['organ'].nunique()\n",
    "classes = list(df['organ'].unique())\n",
    "num_classes, classes"
   ]
  },
  {
   "cell_type": "code",
   "execution_count": 36,
   "id": "013e47b9-3f56-4939-b715-1f53f1402d06",
   "metadata": {},
   "outputs": [],
   "source": [
    "labels = {'train': {'data_description':{'num_classes': num_classes, 'num_images': 0, \"num_channels\": 3,'classes':classes}, 'images': []},\n",
    "          'val': {'data_description':{'num_classes': num_classes, 'num_images': 0, \"num_channels\": 3, 'classes':classes,}, 'images': []}}\n",
    "for index, row in df.iterrows():\n",
    "    img_name = row[\"id\"]\n",
    "\n",
    "    img = Image.open(f'train_data/raw_data/{img_name}.tiff').resize((1536, 1536))\n",
    "    img = torch.tensor(np.asarray(img))\n",
    "\n",
    "    tiles = split_image(img, tile_size=(256, 256), stride=(128, 128)).permute((0,2,3,1)).numpy().astype('uint8')\n",
    "\n",
    "    mask = rle2mask(row['rle'], img_shape=(row['img_height'], row['img_width']))\n",
    "    mask = transforms_mask(mask.T[None,:,:]).permute((1,2,0))\n",
    "\n",
    "    mask_tiles = split_image(mask, tile_size=(256, 256), stride=(128, 128)).permute((0,2,3,1))\n",
    "    \n",
    "    for i in range(tiles.shape[0]):\n",
    "\n",
    "        tile_name = f'{img_name}_{i}'\n",
    "        rle = mask2rle(mask_tiles[i])\n",
    "        \n",
    "        labels[row['train']]['images'].append({\n",
    "            'name': tile_name,\n",
    "            'path': tile_name+'.jpg',\n",
    "            'labels':\n",
    "            [\n",
    "                {\n",
    "                    'class': row['organ'],\n",
    "                    'rle': rle\n",
    "                }\n",
    "            ]\n",
    "        })\n",
    "        Image.fromarray(tiles[i]).save(f\"train_data/processed_data/{row['train']}/{tile_name}.jpg\")\n",
    "\n",
    "        \n",
    "labels['train']['data_description']['num_images'] = len(labels['train']['images'])\n",
    "labels['val']['data_description']['num_images'] = len(labels['val']['images'])\n",
    "\n",
    "\n",
    "with open(f\"train_data/processed_data/train/labels.json\", 'w') as f:\n",
    "    json.dump(labels['train'], f)\n",
    "    \n",
    "with open(f\"train_data/processed_data/val/labels.json\", 'w') as f:\n",
    "    json.dump(labels['val'], f)"
   ]
  }
 ],
 "metadata": {
  "kernelspec": {
   "display_name": "Python 3.9.12 ('segmentation')",
   "language": "python",
   "name": "python3"
  },
  "language_info": {
   "codemirror_mode": {
    "name": "ipython",
    "version": 3
   },
   "file_extension": ".py",
   "mimetype": "text/x-python",
   "name": "python",
   "nbconvert_exporter": "python",
   "pygments_lexer": "ipython3",
   "version": "3.9.12"
  },
  "vscode": {
   "interpreter": {
    "hash": "4559613f8f0848e507bbc2d4760305dde64150bbc27dc5de532fa00351530218"
   }
  }
 },
 "nbformat": 4,
 "nbformat_minor": 5
}
